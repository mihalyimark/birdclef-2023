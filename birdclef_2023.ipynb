{
  "cells": [
    {
      "cell_type": "markdown",
      "metadata": {
        "id": "view-in-github",
        "colab_type": "text"
      },
      "source": [
        "<a href=\"https://colab.research.google.com/github/mihalyimark/birdclef-2023/blob/main/birdclef_2023.ipynb\" target=\"_parent\"><img src=\"https://colab.research.google.com/assets/colab-badge.svg\" alt=\"Open In Colab\"/></a>"
      ]
    },
    {
      "cell_type": "code",
      "execution_count": 56,
      "metadata": {
        "id": "WHHf8AK3DVaC"
      },
      "outputs": [],
      "source": [
        "import os\n",
        "import pandas as pd\n",
        "import numpy as np\n",
        "import tensorflow as tf\n",
        "import keras\n",
        "import librosa\n",
        "from tqdm import tqdm\n",
        "from sklearn.model_selection import train_test_split\n",
        "from keras.models import Sequential\n",
        "from keras.layers import Dense\n",
        "from keras.optimizers import Adam\n",
        "import io\n",
        "from PIL import Image\n",
        "import matplotlib.pyplot as plt\n",
        "import torchvision.transforms as transforms\n",
        "import torch"
      ]
    },
    {
      "cell_type": "code",
      "execution_count": 2,
      "metadata": {
        "id": "WGOOIyysDdba"
      },
      "outputs": [],
      "source": [
        "os.environ['KAGGLE_CONFIG_DIR'] = '/content'"
      ]
    },
    {
      "cell_type": "code",
      "execution_count": 3,
      "metadata": {
        "id": "Fz22GWzg6HoU"
      },
      "outputs": [],
      "source": [
        "#Place kaggle.json in the /content folder before running"
      ]
    },
    {
      "cell_type": "code",
      "execution_count": 4,
      "metadata": {
        "id": "JIpJPhStFLOZ"
      },
      "outputs": [],
      "source": [
        "!chmod 600 /content/kaggle.json"
      ]
    },
    {
      "cell_type": "code",
      "execution_count": 5,
      "metadata": {
        "colab": {
          "base_uri": "https://localhost:8080/"
        },
        "id": "zBXSaFhKFCap",
        "outputId": "a75cb2fc-cdc2-4ea1-9749-c82b43147044"
      },
      "outputs": [
        {
          "output_type": "stream",
          "name": "stdout",
          "text": [
            "Downloading birdclef-2023.zip to /content\n",
            "100% 4.91G/4.91G [04:02<00:00, 17.3MB/s]\n",
            "100% 4.91G/4.91G [04:02<00:00, 21.7MB/s]\n"
          ]
        }
      ],
      "source": [
        "#Download data\n",
        "!kaggle competitions download -c birdclef-2023"
      ]
    },
    {
      "cell_type": "code",
      "execution_count": null,
      "metadata": {
        "id": "JOXSgaAFHFtG"
      },
      "outputs": [],
      "source": [
        "!unzip \\*.zip && rm *.zip"
      ]
    },
    {
      "cell_type": "code",
      "execution_count": 7,
      "metadata": {
        "id": "hKTxV8EjISLX",
        "colab": {
          "base_uri": "https://localhost:8080/",
          "height": 553
        },
        "outputId": "4c51e2c5-d325-4806-a9c0-bb941c819361"
      },
      "outputs": [
        {
          "output_type": "execute_result",
          "data": {
            "text/plain": [
              "  primary_label secondary_labels              type  latitude  longitude  \\\n",
              "0       abethr1               []          ['song']    4.3906    38.2788   \n",
              "1       abethr1               []          ['call']   -2.9524    38.2921   \n",
              "2       abethr1               []          ['song']   -2.9524    38.2921   \n",
              "3       abethr1               []          ['song']   -2.9524    38.2921   \n",
              "4       abethr1               []  ['call', 'song']   -2.9524    38.2921   \n",
              "\n",
              "      scientific_name               common_name         author  \\\n",
              "0  Turdus tephronotus  African Bare-eyed Thrush  Rolf A. de By   \n",
              "1  Turdus tephronotus  African Bare-eyed Thrush  James Bradley   \n",
              "2  Turdus tephronotus  African Bare-eyed Thrush  James Bradley   \n",
              "3  Turdus tephronotus  African Bare-eyed Thrush  James Bradley   \n",
              "4  Turdus tephronotus  African Bare-eyed Thrush  James Bradley   \n",
              "\n",
              "                                             license  rating  \\\n",
              "0  Creative Commons Attribution-NonCommercial-Sha...     4.0   \n",
              "1  Creative Commons Attribution-NonCommercial-Sha...     3.5   \n",
              "2  Creative Commons Attribution-NonCommercial-Sha...     3.5   \n",
              "3  Creative Commons Attribution-NonCommercial-Sha...     5.0   \n",
              "4  Creative Commons Attribution-NonCommercial-Sha...     4.5   \n",
              "\n",
              "                                 url              filename  \n",
              "0  https://www.xeno-canto.org/128013  abethr1/XC128013.ogg  \n",
              "1  https://www.xeno-canto.org/363501  abethr1/XC363501.ogg  \n",
              "2  https://www.xeno-canto.org/363502  abethr1/XC363502.ogg  \n",
              "3  https://www.xeno-canto.org/363503  abethr1/XC363503.ogg  \n",
              "4  https://www.xeno-canto.org/363504  abethr1/XC363504.ogg  "
            ],
            "text/html": [
              "\n",
              "  <div id=\"df-49506a34-915b-48f7-9a45-40d2edc54783\" class=\"colab-df-container\">\n",
              "    <div>\n",
              "<style scoped>\n",
              "    .dataframe tbody tr th:only-of-type {\n",
              "        vertical-align: middle;\n",
              "    }\n",
              "\n",
              "    .dataframe tbody tr th {\n",
              "        vertical-align: top;\n",
              "    }\n",
              "\n",
              "    .dataframe thead th {\n",
              "        text-align: right;\n",
              "    }\n",
              "</style>\n",
              "<table border=\"1\" class=\"dataframe\">\n",
              "  <thead>\n",
              "    <tr style=\"text-align: right;\">\n",
              "      <th></th>\n",
              "      <th>primary_label</th>\n",
              "      <th>secondary_labels</th>\n",
              "      <th>type</th>\n",
              "      <th>latitude</th>\n",
              "      <th>longitude</th>\n",
              "      <th>scientific_name</th>\n",
              "      <th>common_name</th>\n",
              "      <th>author</th>\n",
              "      <th>license</th>\n",
              "      <th>rating</th>\n",
              "      <th>url</th>\n",
              "      <th>filename</th>\n",
              "    </tr>\n",
              "  </thead>\n",
              "  <tbody>\n",
              "    <tr>\n",
              "      <th>0</th>\n",
              "      <td>abethr1</td>\n",
              "      <td>[]</td>\n",
              "      <td>['song']</td>\n",
              "      <td>4.3906</td>\n",
              "      <td>38.2788</td>\n",
              "      <td>Turdus tephronotus</td>\n",
              "      <td>African Bare-eyed Thrush</td>\n",
              "      <td>Rolf A. de By</td>\n",
              "      <td>Creative Commons Attribution-NonCommercial-Sha...</td>\n",
              "      <td>4.0</td>\n",
              "      <td>https://www.xeno-canto.org/128013</td>\n",
              "      <td>abethr1/XC128013.ogg</td>\n",
              "    </tr>\n",
              "    <tr>\n",
              "      <th>1</th>\n",
              "      <td>abethr1</td>\n",
              "      <td>[]</td>\n",
              "      <td>['call']</td>\n",
              "      <td>-2.9524</td>\n",
              "      <td>38.2921</td>\n",
              "      <td>Turdus tephronotus</td>\n",
              "      <td>African Bare-eyed Thrush</td>\n",
              "      <td>James Bradley</td>\n",
              "      <td>Creative Commons Attribution-NonCommercial-Sha...</td>\n",
              "      <td>3.5</td>\n",
              "      <td>https://www.xeno-canto.org/363501</td>\n",
              "      <td>abethr1/XC363501.ogg</td>\n",
              "    </tr>\n",
              "    <tr>\n",
              "      <th>2</th>\n",
              "      <td>abethr1</td>\n",
              "      <td>[]</td>\n",
              "      <td>['song']</td>\n",
              "      <td>-2.9524</td>\n",
              "      <td>38.2921</td>\n",
              "      <td>Turdus tephronotus</td>\n",
              "      <td>African Bare-eyed Thrush</td>\n",
              "      <td>James Bradley</td>\n",
              "      <td>Creative Commons Attribution-NonCommercial-Sha...</td>\n",
              "      <td>3.5</td>\n",
              "      <td>https://www.xeno-canto.org/363502</td>\n",
              "      <td>abethr1/XC363502.ogg</td>\n",
              "    </tr>\n",
              "    <tr>\n",
              "      <th>3</th>\n",
              "      <td>abethr1</td>\n",
              "      <td>[]</td>\n",
              "      <td>['song']</td>\n",
              "      <td>-2.9524</td>\n",
              "      <td>38.2921</td>\n",
              "      <td>Turdus tephronotus</td>\n",
              "      <td>African Bare-eyed Thrush</td>\n",
              "      <td>James Bradley</td>\n",
              "      <td>Creative Commons Attribution-NonCommercial-Sha...</td>\n",
              "      <td>5.0</td>\n",
              "      <td>https://www.xeno-canto.org/363503</td>\n",
              "      <td>abethr1/XC363503.ogg</td>\n",
              "    </tr>\n",
              "    <tr>\n",
              "      <th>4</th>\n",
              "      <td>abethr1</td>\n",
              "      <td>[]</td>\n",
              "      <td>['call', 'song']</td>\n",
              "      <td>-2.9524</td>\n",
              "      <td>38.2921</td>\n",
              "      <td>Turdus tephronotus</td>\n",
              "      <td>African Bare-eyed Thrush</td>\n",
              "      <td>James Bradley</td>\n",
              "      <td>Creative Commons Attribution-NonCommercial-Sha...</td>\n",
              "      <td>4.5</td>\n",
              "      <td>https://www.xeno-canto.org/363504</td>\n",
              "      <td>abethr1/XC363504.ogg</td>\n",
              "    </tr>\n",
              "  </tbody>\n",
              "</table>\n",
              "</div>\n",
              "    <div class=\"colab-df-buttons\">\n",
              "\n",
              "  <div class=\"colab-df-container\">\n",
              "    <button class=\"colab-df-convert\" onclick=\"convertToInteractive('df-49506a34-915b-48f7-9a45-40d2edc54783')\"\n",
              "            title=\"Convert this dataframe to an interactive table.\"\n",
              "            style=\"display:none;\">\n",
              "\n",
              "  <svg xmlns=\"http://www.w3.org/2000/svg\" height=\"24px\" viewBox=\"0 -960 960 960\">\n",
              "    <path d=\"M120-120v-720h720v720H120Zm60-500h600v-160H180v160Zm220 220h160v-160H400v160Zm0 220h160v-160H400v160ZM180-400h160v-160H180v160Zm440 0h160v-160H620v160ZM180-180h160v-160H180v160Zm440 0h160v-160H620v160Z\"/>\n",
              "  </svg>\n",
              "    </button>\n",
              "\n",
              "  <style>\n",
              "    .colab-df-container {\n",
              "      display:flex;\n",
              "      gap: 12px;\n",
              "    }\n",
              "\n",
              "    .colab-df-convert {\n",
              "      background-color: #E8F0FE;\n",
              "      border: none;\n",
              "      border-radius: 50%;\n",
              "      cursor: pointer;\n",
              "      display: none;\n",
              "      fill: #1967D2;\n",
              "      height: 32px;\n",
              "      padding: 0 0 0 0;\n",
              "      width: 32px;\n",
              "    }\n",
              "\n",
              "    .colab-df-convert:hover {\n",
              "      background-color: #E2EBFA;\n",
              "      box-shadow: 0px 1px 2px rgba(60, 64, 67, 0.3), 0px 1px 3px 1px rgba(60, 64, 67, 0.15);\n",
              "      fill: #174EA6;\n",
              "    }\n",
              "\n",
              "    .colab-df-buttons div {\n",
              "      margin-bottom: 4px;\n",
              "    }\n",
              "\n",
              "    [theme=dark] .colab-df-convert {\n",
              "      background-color: #3B4455;\n",
              "      fill: #D2E3FC;\n",
              "    }\n",
              "\n",
              "    [theme=dark] .colab-df-convert:hover {\n",
              "      background-color: #434B5C;\n",
              "      box-shadow: 0px 1px 3px 1px rgba(0, 0, 0, 0.15);\n",
              "      filter: drop-shadow(0px 1px 2px rgba(0, 0, 0, 0.3));\n",
              "      fill: #FFFFFF;\n",
              "    }\n",
              "  </style>\n",
              "\n",
              "    <script>\n",
              "      const buttonEl =\n",
              "        document.querySelector('#df-49506a34-915b-48f7-9a45-40d2edc54783 button.colab-df-convert');\n",
              "      buttonEl.style.display =\n",
              "        google.colab.kernel.accessAllowed ? 'block' : 'none';\n",
              "\n",
              "      async function convertToInteractive(key) {\n",
              "        const element = document.querySelector('#df-49506a34-915b-48f7-9a45-40d2edc54783');\n",
              "        const dataTable =\n",
              "          await google.colab.kernel.invokeFunction('convertToInteractive',\n",
              "                                                    [key], {});\n",
              "        if (!dataTable) return;\n",
              "\n",
              "        const docLinkHtml = 'Like what you see? Visit the ' +\n",
              "          '<a target=\"_blank\" href=https://colab.research.google.com/notebooks/data_table.ipynb>data table notebook</a>'\n",
              "          + ' to learn more about interactive tables.';\n",
              "        element.innerHTML = '';\n",
              "        dataTable['output_type'] = 'display_data';\n",
              "        await google.colab.output.renderOutput(dataTable, element);\n",
              "        const docLink = document.createElement('div');\n",
              "        docLink.innerHTML = docLinkHtml;\n",
              "        element.appendChild(docLink);\n",
              "      }\n",
              "    </script>\n",
              "  </div>\n",
              "\n",
              "\n",
              "<div id=\"df-97204e02-0ad8-4339-a72a-1a1c1e6d2cff\">\n",
              "  <button class=\"colab-df-quickchart\" onclick=\"quickchart('df-97204e02-0ad8-4339-a72a-1a1c1e6d2cff')\"\n",
              "            title=\"Suggest charts\"\n",
              "            style=\"display:none;\">\n",
              "\n",
              "<svg xmlns=\"http://www.w3.org/2000/svg\" height=\"24px\"viewBox=\"0 0 24 24\"\n",
              "     width=\"24px\">\n",
              "    <g>\n",
              "        <path d=\"M19 3H5c-1.1 0-2 .9-2 2v14c0 1.1.9 2 2 2h14c1.1 0 2-.9 2-2V5c0-1.1-.9-2-2-2zM9 17H7v-7h2v7zm4 0h-2V7h2v10zm4 0h-2v-4h2v4z\"/>\n",
              "    </g>\n",
              "</svg>\n",
              "  </button>\n",
              "\n",
              "<style>\n",
              "  .colab-df-quickchart {\n",
              "      --bg-color: #E8F0FE;\n",
              "      --fill-color: #1967D2;\n",
              "      --hover-bg-color: #E2EBFA;\n",
              "      --hover-fill-color: #174EA6;\n",
              "      --disabled-fill-color: #AAA;\n",
              "      --disabled-bg-color: #DDD;\n",
              "  }\n",
              "\n",
              "  [theme=dark] .colab-df-quickchart {\n",
              "      --bg-color: #3B4455;\n",
              "      --fill-color: #D2E3FC;\n",
              "      --hover-bg-color: #434B5C;\n",
              "      --hover-fill-color: #FFFFFF;\n",
              "      --disabled-bg-color: #3B4455;\n",
              "      --disabled-fill-color: #666;\n",
              "  }\n",
              "\n",
              "  .colab-df-quickchart {\n",
              "    background-color: var(--bg-color);\n",
              "    border: none;\n",
              "    border-radius: 50%;\n",
              "    cursor: pointer;\n",
              "    display: none;\n",
              "    fill: var(--fill-color);\n",
              "    height: 32px;\n",
              "    padding: 0;\n",
              "    width: 32px;\n",
              "  }\n",
              "\n",
              "  .colab-df-quickchart:hover {\n",
              "    background-color: var(--hover-bg-color);\n",
              "    box-shadow: 0 1px 2px rgba(60, 64, 67, 0.3), 0 1px 3px 1px rgba(60, 64, 67, 0.15);\n",
              "    fill: var(--button-hover-fill-color);\n",
              "  }\n",
              "\n",
              "  .colab-df-quickchart-complete:disabled,\n",
              "  .colab-df-quickchart-complete:disabled:hover {\n",
              "    background-color: var(--disabled-bg-color);\n",
              "    fill: var(--disabled-fill-color);\n",
              "    box-shadow: none;\n",
              "  }\n",
              "\n",
              "  .colab-df-spinner {\n",
              "    border: 2px solid var(--fill-color);\n",
              "    border-color: transparent;\n",
              "    border-bottom-color: var(--fill-color);\n",
              "    animation:\n",
              "      spin 1s steps(1) infinite;\n",
              "  }\n",
              "\n",
              "  @keyframes spin {\n",
              "    0% {\n",
              "      border-color: transparent;\n",
              "      border-bottom-color: var(--fill-color);\n",
              "      border-left-color: var(--fill-color);\n",
              "    }\n",
              "    20% {\n",
              "      border-color: transparent;\n",
              "      border-left-color: var(--fill-color);\n",
              "      border-top-color: var(--fill-color);\n",
              "    }\n",
              "    30% {\n",
              "      border-color: transparent;\n",
              "      border-left-color: var(--fill-color);\n",
              "      border-top-color: var(--fill-color);\n",
              "      border-right-color: var(--fill-color);\n",
              "    }\n",
              "    40% {\n",
              "      border-color: transparent;\n",
              "      border-right-color: var(--fill-color);\n",
              "      border-top-color: var(--fill-color);\n",
              "    }\n",
              "    60% {\n",
              "      border-color: transparent;\n",
              "      border-right-color: var(--fill-color);\n",
              "    }\n",
              "    80% {\n",
              "      border-color: transparent;\n",
              "      border-right-color: var(--fill-color);\n",
              "      border-bottom-color: var(--fill-color);\n",
              "    }\n",
              "    90% {\n",
              "      border-color: transparent;\n",
              "      border-bottom-color: var(--fill-color);\n",
              "    }\n",
              "  }\n",
              "</style>\n",
              "\n",
              "  <script>\n",
              "    async function quickchart(key) {\n",
              "      const quickchartButtonEl =\n",
              "        document.querySelector('#' + key + ' button');\n",
              "      quickchartButtonEl.disabled = true;  // To prevent multiple clicks.\n",
              "      quickchartButtonEl.classList.add('colab-df-spinner');\n",
              "      try {\n",
              "        const charts = await google.colab.kernel.invokeFunction(\n",
              "            'suggestCharts', [key], {});\n",
              "      } catch (error) {\n",
              "        console.error('Error during call to suggestCharts:', error);\n",
              "      }\n",
              "      quickchartButtonEl.classList.remove('colab-df-spinner');\n",
              "      quickchartButtonEl.classList.add('colab-df-quickchart-complete');\n",
              "    }\n",
              "    (() => {\n",
              "      let quickchartButtonEl =\n",
              "        document.querySelector('#df-97204e02-0ad8-4339-a72a-1a1c1e6d2cff button');\n",
              "      quickchartButtonEl.style.display =\n",
              "        google.colab.kernel.accessAllowed ? 'block' : 'none';\n",
              "    })();\n",
              "  </script>\n",
              "</div>\n",
              "    </div>\n",
              "  </div>\n"
            ]
          },
          "metadata": {},
          "execution_count": 7
        }
      ],
      "source": [
        "train_metadata = pd.read_csv('/content/train_metadata.csv', low_memory=False)\n",
        "train_metadata.head()"
      ]
    },
    {
      "cell_type": "code",
      "execution_count": 8,
      "metadata": {
        "id": "s_ciWTpuJeKP",
        "colab": {
          "base_uri": "https://localhost:8080/"
        },
        "outputId": "17f8fd43-4f6a-4821-90e6-71cf50a5fafb"
      },
      "outputs": [
        {
          "output_type": "execute_result",
          "data": {
            "text/plain": [
              "primary_label         264\n",
              "secondary_labels      751\n",
              "type                  796\n",
              "latitude             6252\n",
              "longitude            6301\n",
              "scientific_name       264\n",
              "common_name           264\n",
              "author               1082\n",
              "license                 4\n",
              "rating                 11\n",
              "url                 16941\n",
              "filename            16941\n",
              "dtype: int64"
            ]
          },
          "metadata": {},
          "execution_count": 8
        }
      ],
      "source": [
        "train_metadata.nunique()"
      ]
    },
    {
      "cell_type": "code",
      "execution_count": 9,
      "metadata": {
        "id": "IaLoa-22KNeh",
        "colab": {
          "base_uri": "https://localhost:8080/",
          "height": 448
        },
        "outputId": "3ea9a624-3ac7-4825-de2b-77989ca0500c"
      },
      "outputs": [
        {
          "output_type": "execute_result",
          "data": {
            "text/plain": [
              "<Axes: ylabel='Frequency'>"
            ]
          },
          "metadata": {},
          "execution_count": 9
        },
        {
          "output_type": "display_data",
          "data": {
            "text/plain": [
              "<Figure size 640x480 with 1 Axes>"
            ],
            "image/png": "[encoded data removed]"
          },
          "metadata": {}
        }
      ],
      "source": [
        "#Plot the histogram of frequencies of labels\n",
        "train_metadata['common_name'].value_counts().plot.hist()"
      ]
    },
    {
      "cell_type": "code",
      "execution_count": 10,
      "metadata": {
        "id": "BtIENzpZQIuc"
      },
      "outputs": [],
      "source": [
        "path = '/content/train_audio/'"
      ]
    },
    {
      "cell_type": "code",
      "execution_count": 11,
      "metadata": {
        "id": "6Y0vkjFOYtFb",
        "colab": {
          "base_uri": "https://localhost:8080/"
        },
        "outputId": "7c07b670-12ac-4cd5-a966-2c5cbe7c8643"
      },
      "outputs": [
        {
          "output_type": "stream",
          "name": "stderr",
          "text": [
            "100%|██████████| 16941/16941 [00:37<00:00, 457.09it/s]\n"
          ]
        }
      ],
      "source": [
        "#Collect duration information\n",
        "duration = []\n",
        "for i in tqdm(range(len(train_metadata))):\n",
        "    audio_name = train_metadata['filename'][i]\n",
        "    audio_path = os.path.join(path, audio_name)\n",
        "    d = librosa.get_duration(path=audio_path)\n",
        "    duration.append(d)"
      ]
    },
    {
      "cell_type": "code",
      "execution_count": 12,
      "metadata": {
        "id": "-1CNxcetOwTX",
        "colab": {
          "base_uri": "https://localhost:8080/"
        },
        "outputId": "3ada6c10-a3bb-43fa-fb40-31efc0421dd0"
      },
      "outputs": [
        {
          "output_type": "execute_result",
          "data": {
            "text/plain": [
              "24.624"
            ]
          },
          "metadata": {},
          "execution_count": 12
        }
      ],
      "source": [
        "np.median(duration)"
      ]
    },
    {
      "cell_type": "code",
      "execution_count": 13,
      "metadata": {
        "id": "owZImgd9PHKw"
      },
      "outputs": [],
      "source": [
        "duration_series = pd.Series(duration)"
      ]
    },
    {
      "cell_type": "code",
      "execution_count": 14,
      "metadata": {
        "id": "ZkJBMxIvRVT5",
        "colab": {
          "base_uri": "https://localhost:8080/",
          "height": 448
        },
        "outputId": "80ce14d0-1421-48a6-ea06-379c35240613"
      },
      "outputs": [
        {
          "output_type": "execute_result",
          "data": {
            "text/plain": [
              "<Axes: ylabel='Frequency'>"
            ]
          },
          "metadata": {},
          "execution_count": 14
        },
        {
          "output_type": "display_data",
          "data": {
            "text/plain": [
              "<Figure size 640x480 with 1 Axes>"
            ],
            "image/png": "[encoded data removed]"
          },
          "metadata": {}
        }
      ],
      "source": [
        "#Plot histogram of duration\n",
        "duration_series.plot.hist(bins=100)"
      ]
    },
    {
      "cell_type": "code",
      "execution_count": 15,
      "metadata": {
        "id": "4HrpBEcNRpsn",
        "colab": {
          "base_uri": "https://localhost:8080/"
        },
        "outputId": "2a239d61-185c-4583-8f64-e2d9f3996678"
      },
      "outputs": [
        {
          "output_type": "execute_result",
          "data": {
            "text/plain": [
              "count    16941.000000\n",
              "mean        40.885565\n",
              "std         69.610286\n",
              "min          0.548000\n",
              "25%         12.773875\n",
              "50%         24.624000\n",
              "75%         45.871031\n",
              "max       2373.528000\n",
              "dtype: float64"
            ]
          },
          "metadata": {},
          "execution_count": 15
        }
      ],
      "source": [
        "duration_series.describe()"
      ]
    },
    {
      "cell_type": "code",
      "execution_count": 16,
      "metadata": {
        "id": "fuuc5yJeVEdv"
      },
      "outputs": [],
      "source": [
        "#Recordings indexes longer then 60 seconds\n",
        "idxs_to_drop = []\n",
        "for i in range(len(duration)):\n",
        "    if duration[i] >= 60:\n",
        "        idxs_to_drop.append(i)"
      ]
    },
    {
      "cell_type": "code",
      "execution_count": 17,
      "metadata": {
        "id": "Cttmi8ZcViZI",
        "colab": {
          "base_uri": "https://localhost:8080/"
        },
        "outputId": "dad31a12-0736-48c0-c02b-fdc858491be1"
      },
      "outputs": [
        {
          "output_type": "execute_result",
          "data": {
            "text/plain": [
              "2851"
            ]
          },
          "metadata": {},
          "execution_count": 17
        }
      ],
      "source": [
        "len(idxs_to_drop)"
      ]
    },
    {
      "cell_type": "code",
      "execution_count": 18,
      "metadata": {
        "id": "42E5kBpqV1fg"
      },
      "outputs": [],
      "source": [
        "#Drop recordings longer then 60 seconds\n",
        "train_metadata_filtered = train_metadata.drop(index=idxs_to_drop)"
      ]
    },
    {
      "cell_type": "code",
      "execution_count": 19,
      "metadata": {
        "id": "IAcUFRVMW2Vg"
      },
      "outputs": [],
      "source": [
        "x = train_metadata_filtered['filename']"
      ]
    },
    {
      "cell_type": "code",
      "execution_count": 20,
      "metadata": {
        "id": "o3cTGQjNks4H"
      },
      "outputs": [],
      "source": [
        "#One-hot encoding\n",
        "y = pd.get_dummies(train_metadata_filtered['primary_label'], dtype=float)"
      ]
    },
    {
      "cell_type": "code",
      "execution_count": 21,
      "metadata": {
        "id": "xSCnljz1hH5Q"
      },
      "outputs": [],
      "source": [
        "#Train dataset\n",
        "x_train, x_valid_test, y_train, y_valid_test = train_test_split(x, y, train_size=0.7, random_state=42)"
      ]
    },
    {
      "cell_type": "code",
      "execution_count": 22,
      "metadata": {
        "id": "awWHrq4Ji6rv"
      },
      "outputs": [],
      "source": [
        "#Validation and test dataset\n",
        "x_valid, x_test, y_valid, y_test = train_test_split(x_valid_test, y_valid_test, test_size=0.33, random_state=42)"
      ]
    },
    {
      "cell_type": "code",
      "execution_count": 23,
      "metadata": {
        "id": "hZlRvPB80YH_"
      },
      "outputs": [],
      "source": [
        "x_train = np.array(x_train)\n",
        "y_train = np.array(y_train)\n",
        "x_valid = np.array(x_valid)\n",
        "y_valid = np.array(y_valid)\n",
        "x_test = np.array(x_test)\n",
        "y_test = np.array(y_test)"
      ]
    },
    {
      "cell_type": "code",
      "execution_count": 24,
      "metadata": {
        "id": "hGoCebdXlf_r"
      },
      "outputs": [],
      "source": [
        "def split_audio(y, sr, duration=3):\n",
        "    res = []\n",
        "    # Calculate the number of samples for the desired duration\n",
        "    samples_per_slice = int(duration * sr)\n",
        "\n",
        "    # Calculate the total number of slices\n",
        "    len_y = len(y)\n",
        "    total_slices = int(np.ceil(len_y / samples_per_slice))\n",
        "\n",
        "    # Split the audio into slices\n",
        "    for i in range(total_slices):\n",
        "        start_sample = i * samples_per_slice\n",
        "        end_sample = min((i + 1) * samples_per_slice, len_y)\n",
        "\n",
        "        if end_sample < len_y:\n",
        "            audio_slice = y[start_sample:end_sample]\n",
        "            res.append(audio_slice)\n",
        "\n",
        "    return res"
      ]
    },
    {
      "cell_type": "code",
      "execution_count": 57,
      "metadata": {
        "id": "STWRiRysn-OC"
      },
      "outputs": [],
      "source": [
        "def make_mel(slices, sr):\n",
        "    images = []\n",
        "    for i in range(len(slices)):\n",
        "        # Create the mel spectrogram\n",
        "        melsgram = librosa.feature.melspectrogram(y=slices[i], sr=sr)\n",
        "        mel_sgram_db = librosa.power_to_db(melsgram, ref=np.max)\n",
        "\n",
        "        # Display the mel spectrogram\n",
        "        librosa.display.specshow(mel_sgram_db)\n",
        "\n",
        "        # Save the mel spectrogram without legend to an in-memory buffer\n",
        "        buffer = io.BytesIO()\n",
        "        plt.savefig(buffer, format='jpg', bbox_inches='tight', pad_inches=0.0)\n",
        "        plt.close()\n",
        "\n",
        "        # Reset the buffer position to the beginning\n",
        "        buffer.seek(0)\n",
        "\n",
        "        # Read the image from the buffer using PIL\n",
        "        image = Image.open(buffer)\n",
        "        transform = transforms.PILToTensor()\n",
        "        image_tensor = transform(image)\n",
        "        image_tensor = image_tensor.permute((1, 2, 0))\n",
        "        image_tensor = tf.image.resize(image_tensor, (150, 150))\n",
        "        buffer.close()\n",
        "        images.append(image_tensor)\n",
        "\n",
        "    return images"
      ]
    },
    {
      "cell_type": "code",
      "execution_count": 58,
      "metadata": {
        "id": "3TGB2yAImti3"
      },
      "outputs": [],
      "source": [
        "def shuffle_generator(audio, label, path, seed):\n",
        "    idx = np.arange(len(audio))\n",
        "    np.random.default_rng(seed).shuffle(idx)\n",
        "    for i in idx:\n",
        "        audio_path = os.path.join(path, audio[i])\n",
        "        y, sr = librosa.load(audio_path)\n",
        "        slices = split_audio(y, sr)\n",
        "        images = make_mel(slices, sr)\n",
        "        idx_image = np.arange(len(images))\n",
        "        np.random.default_rng(seed).shuffle(idx_image)\n",
        "        for j in idx_image:\n",
        "            yield images[j], label[i]"
      ]
    },
    {
      "cell_type": "code",
      "execution_count": 59,
      "metadata": {
        "id": "Vl1X34LRtejZ"
      },
      "outputs": [],
      "source": [
        "input_shape = (150, 150, 3)\n",
        "pred_shape = y_train.shape[1]\n",
        "dataset = tf.data.Dataset.from_generator(\n",
        "    shuffle_generator,\n",
        "    args=[x_train, y_train, path, 42],\n",
        "    output_signature=(\n",
        "        tf.TensorSpec(shape=input_shape, dtype=tf.float32),\n",
        "        tf.TensorSpec(shape=(pred_shape,), dtype=tf.float32))\n",
        ")\n",
        "\n",
        "val_dataset = tf.data.Dataset.from_generator(\n",
        "    shuffle_generator,\n",
        "    args=[x_valid, y_valid, path, 42],\n",
        "    output_signature=(\n",
        "        tf.TensorSpec(shape=input_shape, dtype=tf.float32),\n",
        "        tf.TensorSpec(shape=(pred_shape,), dtype=tf.float32))\n",
        ")"
      ]
    },
    {
      "cell_type": "code",
      "execution_count": 60,
      "metadata": {
        "id": "HMTxTssNkh7V",
        "colab": {
          "base_uri": "https://localhost:8080/"
        },
        "outputId": "6e132bd8-27aa-498b-897c-c27a2320ce30"
      },
      "outputs": [
        {
          "output_type": "stream",
          "name": "stdout",
          "text": [
            "Model: \"model_4\"\n",
            "_________________________________________________________________\n",
            " Layer (type)                Output Shape              Param #   \n",
            "=================================================================\n",
            " input_10 (InputLayer)       [(None, 150, 150, 3)]     0         \n",
            "                                                                 \n",
            " rescaling_4 (Rescaling)     (None, 150, 150, 3)       0         \n",
            "                                                                 \n",
            " xception (Functional)       (None, 5, 5, 2048)        20861480  \n",
            "                                                                 \n",
            " global_average_pooling2d_4  (None, 2048)              0         \n",
            "  (GlobalAveragePooling2D)                                       \n",
            "                                                                 \n",
            " dropout_4 (Dropout)         (None, 2048)              0         \n",
            "                                                                 \n",
            " dense_4 (Dense)             (None, 264)               540936    \n",
            "                                                                 \n",
            "=================================================================\n",
            "Total params: 21402416 (81.64 MB)\n",
            "Trainable params: 540936 (2.06 MB)\n",
            "Non-trainable params: 20861480 (79.58 MB)\n",
            "_________________________________________________________________\n"
          ]
        }
      ],
      "source": [
        "base_model = keras.applications.Xception(\n",
        "    weights=\"imagenet\",  # Load weights pre-trained on ImageNet.\n",
        "    input_shape=(150, 150, 3),\n",
        "    include_top=False,\n",
        ")  # Do not include the ImageNet classifier at the top.\n",
        "\n",
        "# Freeze the base_model\n",
        "base_model.trainable = False\n",
        "\n",
        "# Create new model on top\n",
        "inputs = keras.Input(shape=(150, 150, 3))\n",
        "\n",
        "# Pre-trained Xception weights requires that input be scaled\n",
        "# from (0, 255) to a range of (-1., +1.), the rescaling layer\n",
        "# outputs: `(inputs * scale) + offset`\n",
        "scale_layer = keras.layers.Rescaling(scale=1 / 127.5, offset=-1)\n",
        "x = scale_layer(inputs)\n",
        "\n",
        "# The base model contains batchnorm layers. We want to keep them in inference mode\n",
        "# when we unfreeze the base model for fine-tuning, so we make sure that the\n",
        "# base_model is running in inference mode here.\n",
        "x = base_model(x, training=False)\n",
        "x = keras.layers.GlobalAveragePooling2D()(x)\n",
        "x = keras.layers.Dropout(0.2)(x)  # Regularize with dropout\n",
        "outputs = keras.layers.Dense(pred_shape, activation='softmax')(x)\n",
        "model = keras.Model(inputs, outputs)\n",
        "\n",
        "model.summary()"
      ]
    },
    {
      "cell_type": "code",
      "execution_count": 61,
      "metadata": {
        "id": "_XiiPD0TxAy4"
      },
      "outputs": [],
      "source": [
        "model.compile(loss=tf.keras.losses.CategoricalCrossentropy(), optimizer=Adam(learning_rate=3e-4),\n",
        "              metrics=[tf.keras.metrics.CategoricalAccuracy()])"
      ]
    },
    {
      "cell_type": "code",
      "execution_count": null,
      "metadata": {
        "id": "fif05074xJYI",
        "colab": {
          "base_uri": "https://localhost:8080/"
        },
        "outputId": "ec4b8953-e0b6-4155-eb0f-7b8aa57469bf"
      },
      "outputs": [
        {
          "output_type": "stream",
          "name": "stdout",
          "text": [
            "Epoch 1/10\n",
            "     17/Unknown - 76s 4s/step - loss: 5.6018 - categorical_accuracy: 0.0276"
          ]
        }
      ],
      "source": [
        "history = model.fit(dataset.batch(32).prefetch(3),\n",
        "                    epochs=10,\n",
        "                    validation_data=val_dataset.batch(32).prefetch(3),\n",
        "                    verbose=1)"
      ]
    },
    {
      "cell_type": "code",
      "source": [
        "tensor, label = next(iter(shuffle_generator(x_train, y_train, path, 42)))"
      ],
      "metadata": {
        "id": "ZB5glo0xvgiq"
      },
      "execution_count": 63,
      "outputs": []
    },
    {
      "cell_type": "code",
      "source": [
        "# Assuming 'tensor' is your TensorFlow tensor\n",
        "# Convert the TensorFlow tensor to a NumPy array\n",
        "numpy_array = tensor.numpy()\n",
        "\n",
        "# Convert the NumPy array to a PIL Image\n",
        "img = Image.fromarray(np.uint8(numpy_array))\n",
        "\n",
        "# Display the PIL image\n",
        "display(img)"
      ],
      "metadata": {
        "colab": {
          "base_uri": "https://localhost:8080/",
          "height": 167
        },
        "id": "9etQM9WawsUj",
        "outputId": "4ba44807-7416-49e0-ce98-41eb866c6be8"
      },
      "execution_count": 64,
      "outputs": [
        {
          "output_type": "display_data",
          "data": {
            "text/plain": [
              "<PIL.Image.Image image mode=RGB size=150x150>"
            ],
            "image/png": "[encoded data removed]"
          },
          "metadata": {}
        }
      ]
    }
  ],
  "metadata": {
    "accelerator": "GPU",
    "colab": {
      "provenance": [],
      "authorship_tag": "ABX9TyMjatu8gBEyoRA6EjAbK7PQ",
      "include_colab_link": true
    },
    "kernelspec": {
      "display_name": "Python 3",
      "name": "python3"
    },
    "language_info": {
      "name": "python"
    }
  },
  "nbformat": 4,
  "nbformat_minor": 0
}