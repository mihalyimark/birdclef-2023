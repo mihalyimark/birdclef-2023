{
  "cells": [
    {
      "cell_type": "markdown",
      "metadata": {
        "id": "view-in-github",
        "colab_type": "text"
      },
      "source": [
        "<a href=\"https://colab.research.google.com/github/mihalyimark/birdclef-2023/blob/main/birdclef_2023.ipynb\" target=\"_parent\"><img src=\"https://colab.research.google.com/assets/colab-badge.svg\" alt=\"Open In Colab\"/></a>"
      ]
    },
    {
      "cell_type": "code",
      "execution_count": 1,
      "metadata": {
        "id": "WHHf8AK3DVaC"
      },
      "outputs": [],
      "source": [
        "import os\n",
        "import pandas as pd\n",
        "import numpy as np\n",
        "import tensorflow as tf\n",
        "import keras\n",
        "import librosa\n",
        "from tqdm import tqdm\n",
        "from sklearn.model_selection import train_test_split\n",
        "from keras.models import Sequential, load_model\n",
        "from keras.layers import Dense\n",
        "from keras.optimizers import Adam\n",
        "from keras.callbacks import EarlyStopping, ModelCheckpoint\n",
        "import io\n",
        "from PIL import Image\n",
        "import matplotlib.pyplot as plt\n",
        "import torchvision.transforms as transforms\n",
        "import torch"
      ]
    },
    {
      "cell_type": "code",
      "execution_count": 2,
      "metadata": {
        "id": "WGOOIyysDdba"
      },
      "outputs": [],
      "source": [
        "os.environ['KAGGLE_CONFIG_DIR'] = '/content'"
      ]
    },
    {
      "cell_type": "code",
      "execution_count": 3,
      "metadata": {
        "id": "Fz22GWzg6HoU"
      },
      "outputs": [],
      "source": [
        "#Place kaggle.json in the /content folder before running"
      ]
    },
    {
      "cell_type": "code",
      "execution_count": 4,
      "metadata": {
        "id": "JIpJPhStFLOZ"
      },
      "outputs": [],
      "source": [
        "!chmod 600 /content/kaggle.json"
      ]
    },
    {
      "cell_type": "code",
      "execution_count": 5,
      "metadata": {
        "id": "zBXSaFhKFCap",
        "colab": {
          "base_uri": "https://localhost:8080/"
        },
        "outputId": "ba6fb1df-4ded-4cc1-b3c6-176d14b3fa75"
      },
      "outputs": [
        {
          "output_type": "stream",
          "name": "stdout",
          "text": [
            "Downloading birdclef-2023.zip to /content\n",
            "100% 4.90G/4.91G [00:57<00:00, 126MB/s]\n",
            "100% 4.91G/4.91G [00:57<00:00, 92.4MB/s]\n"
          ]
        }
      ],
      "source": [
        "#Download data\n",
        "!kaggle competitions download -c birdclef-2023"
      ]
    },
    {
      "cell_type": "code",
      "execution_count": null,
      "metadata": {
        "id": "JOXSgaAFHFtG"
      },
      "outputs": [],
      "source": [
        "!unzip \\*.zip && rm *.zip"
      ]
    },
    {
      "cell_type": "code",
      "execution_count": 7,
      "metadata": {
        "id": "hKTxV8EjISLX",
        "colab": {
          "base_uri": "https://localhost:8080/",
          "height": 573
        },
        "outputId": "cec5c3e6-63b9-48ab-9fc1-49e8986c6daa"
      },
      "outputs": [
        {
          "output_type": "execute_result",
          "data": {
            "text/plain": [
              "  primary_label secondary_labels              type  latitude  longitude  \\\n",
              "0       abethr1               []          ['song']    4.3906    38.2788   \n",
              "1       abethr1               []          ['call']   -2.9524    38.2921   \n",
              "2       abethr1               []          ['song']   -2.9524    38.2921   \n",
              "3       abethr1               []          ['song']   -2.9524    38.2921   \n",
              "4       abethr1               []  ['call', 'song']   -2.9524    38.2921   \n",
              "\n",
              "      scientific_name               common_name         author  \\\n",
              "0  Turdus tephronotus  African Bare-eyed Thrush  Rolf A. de By   \n",
              "1  Turdus tephronotus  African Bare-eyed Thrush  James Bradley   \n",
              "2  Turdus tephronotus  African Bare-eyed Thrush  James Bradley   \n",
              "3  Turdus tephronotus  African Bare-eyed Thrush  James Bradley   \n",
              "4  Turdus tephronotus  African Bare-eyed Thrush  James Bradley   \n",
              "\n",
              "                                             license  rating  \\\n",
              "0  Creative Commons Attribution-NonCommercial-Sha...     4.0   \n",
              "1  Creative Commons Attribution-NonCommercial-Sha...     3.5   \n",
              "2  Creative Commons Attribution-NonCommercial-Sha...     3.5   \n",
              "3  Creative Commons Attribution-NonCommercial-Sha...     5.0   \n",
              "4  Creative Commons Attribution-NonCommercial-Sha...     4.5   \n",
              "\n",
              "                                 url              filename  \n",
              "0  https://www.xeno-canto.org/128013  abethr1/XC128013.ogg  \n",
              "1  https://www.xeno-canto.org/363501  abethr1/XC363501.ogg  \n",
              "2  https://www.xeno-canto.org/363502  abethr1/XC363502.ogg  \n",
              "3  https://www.xeno-canto.org/363503  abethr1/XC363503.ogg  \n",
              "4  https://www.xeno-canto.org/363504  abethr1/XC363504.ogg  "
            ],
            "text/html": [
              "\n",
              "  <div id=\"df-9989faef-c46c-4d7b-aec1-dbc3c394c1ee\" class=\"colab-df-container\">\n",
              "    <div>\n",
              "<style scoped>\n",
              "    .dataframe tbody tr th:only-of-type {\n",
              "        vertical-align: middle;\n",
              "    }\n",
              "\n",
              "    .dataframe tbody tr th {\n",
              "        vertical-align: top;\n",
              "    }\n",
              "\n",
              "    .dataframe thead th {\n",
              "        text-align: right;\n",
              "    }\n",
              "</style>\n",
              "<table border=\"1\" class=\"dataframe\">\n",
              "  <thead>\n",
              "    <tr style=\"text-align: right;\">\n",
              "      <th></th>\n",
              "      <th>primary_label</th>\n",
              "      <th>secondary_labels</th>\n",
              "      <th>type</th>\n",
              "      <th>latitude</th>\n",
              "      <th>longitude</th>\n",
              "      <th>scientific_name</th>\n",
              "      <th>common_name</th>\n",
              "      <th>author</th>\n",
              "      <th>license</th>\n",
              "      <th>rating</th>\n",
              "      <th>url</th>\n",
              "      <th>filename</th>\n",
              "    </tr>\n",
              "  </thead>\n",
              "  <tbody>\n",
              "    <tr>\n",
              "      <th>0</th>\n",
              "      <td>abethr1</td>\n",
              "      <td>[]</td>\n",
              "      <td>['song']</td>\n",
              "      <td>4.3906</td>\n",
              "      <td>38.2788</td>\n",
              "      <td>Turdus tephronotus</td>\n",
              "      <td>African Bare-eyed Thrush</td>\n",
              "      <td>Rolf A. de By</td>\n",
              "      <td>Creative Commons Attribution-NonCommercial-Sha...</td>\n",
              "      <td>4.0</td>\n",
              "      <td>https://www.xeno-canto.org/128013</td>\n",
              "      <td>abethr1/XC128013.ogg</td>\n",
              "    </tr>\n",
              "    <tr>\n",
              "      <th>1</th>\n",
              "      <td>abethr1</td>\n",
              "      <td>[]</td>\n",
              "      <td>['call']</td>\n",
              "      <td>-2.9524</td>\n",
              "      <td>38.2921</td>\n",
              "      <td>Turdus tephronotus</td>\n",
              "      <td>African Bare-eyed Thrush</td>\n",
              "      <td>James Bradley</td>\n",
              "      <td>Creative Commons Attribution-NonCommercial-Sha...</td>\n",
              "      <td>3.5</td>\n",
              "      <td>https://www.xeno-canto.org/363501</td>\n",
              "      <td>abethr1/XC363501.ogg</td>\n",
              "    </tr>\n",
              "    <tr>\n",
              "      <th>2</th>\n",
              "      <td>abethr1</td>\n",
              "      <td>[]</td>\n",
              "      <td>['song']</td>\n",
              "      <td>-2.9524</td>\n",
              "      <td>38.2921</td>\n",
              "      <td>Turdus tephronotus</td>\n",
              "      <td>African Bare-eyed Thrush</td>\n",
              "      <td>James Bradley</td>\n",
              "      <td>Creative Commons Attribution-NonCommercial-Sha...</td>\n",
              "      <td>3.5</td>\n",
              "      <td>https://www.xeno-canto.org/363502</td>\n",
              "      <td>abethr1/XC363502.ogg</td>\n",
              "    </tr>\n",
              "    <tr>\n",
              "      <th>3</th>\n",
              "      <td>abethr1</td>\n",
              "      <td>[]</td>\n",
              "      <td>['song']</td>\n",
              "      <td>-2.9524</td>\n",
              "      <td>38.2921</td>\n",
              "      <td>Turdus tephronotus</td>\n",
              "      <td>African Bare-eyed Thrush</td>\n",
              "      <td>James Bradley</td>\n",
              "      <td>Creative Commons Attribution-NonCommercial-Sha...</td>\n",
              "      <td>5.0</td>\n",
              "      <td>https://www.xeno-canto.org/363503</td>\n",
              "      <td>abethr1/XC363503.ogg</td>\n",
              "    </tr>\n",
              "    <tr>\n",
              "      <th>4</th>\n",
              "      <td>abethr1</td>\n",
              "      <td>[]</td>\n",
              "      <td>['call', 'song']</td>\n",
              "      <td>-2.9524</td>\n",
              "      <td>38.2921</td>\n",
              "      <td>Turdus tephronotus</td>\n",
              "      <td>African Bare-eyed Thrush</td>\n",
              "      <td>James Bradley</td>\n",
              "      <td>Creative Commons Attribution-NonCommercial-Sha...</td>\n",
              "      <td>4.5</td>\n",
              "      <td>https://www.xeno-canto.org/363504</td>\n",
              "      <td>abethr1/XC363504.ogg</td>\n",
              "    </tr>\n",
              "  </tbody>\n",
              "</table>\n",
              "</div>\n",
              "    <div class=\"colab-df-buttons\">\n",
              "\n",
              "  <div class=\"colab-df-container\">\n",
              "    <button class=\"colab-df-convert\" onclick=\"convertToInteractive('df-9989faef-c46c-4d7b-aec1-dbc3c394c1ee')\"\n",
              "            title=\"Convert this dataframe to an interactive table.\"\n",
              "            style=\"display:none;\">\n",
              "\n",
              "  <svg xmlns=\"http://www.w3.org/2000/svg\" height=\"24px\" viewBox=\"0 -960 960 960\">\n",
              "    <path d=\"M120-120v-720h720v720H120Zm60-500h600v-160H180v160Zm220 220h160v-160H400v160Zm0 220h160v-160H400v160ZM180-400h160v-160H180v160Zm440 0h160v-160H620v160ZM180-180h160v-160H180v160Zm440 0h160v-160H620v160Z\"/>\n",
              "  </svg>\n",
              "    </button>\n",
              "\n",
              "  <style>\n",
              "    .colab-df-container {\n",
              "      display:flex;\n",
              "      gap: 12px;\n",
              "    }\n",
              "\n",
              "    .colab-df-convert {\n",
              "      background-color: #E8F0FE;\n",
              "      border: none;\n",
              "      border-radius: 50%;\n",
              "      cursor: pointer;\n",
              "      display: none;\n",
              "      fill: #1967D2;\n",
              "      height: 32px;\n",
              "      padding: 0 0 0 0;\n",
              "      width: 32px;\n",
              "    }\n",
              "\n",
              "    .colab-df-convert:hover {\n",
              "      background-color: #E2EBFA;\n",
              "      box-shadow: 0px 1px 2px rgba(60, 64, 67, 0.3), 0px 1px 3px 1px rgba(60, 64, 67, 0.15);\n",
              "      fill: #174EA6;\n",
              "    }\n",
              "\n",
              "    .colab-df-buttons div {\n",
              "      margin-bottom: 4px;\n",
              "    }\n",
              "\n",
              "    [theme=dark] .colab-df-convert {\n",
              "      background-color: #3B4455;\n",
              "      fill: #D2E3FC;\n",
              "    }\n",
              "\n",
              "    [theme=dark] .colab-df-convert:hover {\n",
              "      background-color: #434B5C;\n",
              "      box-shadow: 0px 1px 3px 1px rgba(0, 0, 0, 0.15);\n",
              "      filter: drop-shadow(0px 1px 2px rgba(0, 0, 0, 0.3));\n",
              "      fill: #FFFFFF;\n",
              "    }\n",
              "  </style>\n",
              "\n",
              "    <script>\n",
              "      const buttonEl =\n",
              "        document.querySelector('#df-9989faef-c46c-4d7b-aec1-dbc3c394c1ee button.colab-df-convert');\n",
              "      buttonEl.style.display =\n",
              "        google.colab.kernel.accessAllowed ? 'block' : 'none';\n",
              "\n",
              "      async function convertToInteractive(key) {\n",
              "        const element = document.querySelector('#df-9989faef-c46c-4d7b-aec1-dbc3c394c1ee');\n",
              "        const dataTable =\n",
              "          await google.colab.kernel.invokeFunction('convertToInteractive',\n",
              "                                                    [key], {});\n",
              "        if (!dataTable) return;\n",
              "\n",
              "        const docLinkHtml = 'Like what you see? Visit the ' +\n",
              "          '<a target=\"_blank\" href=https://colab.research.google.com/notebooks/data_table.ipynb>data table notebook</a>'\n",
              "          + ' to learn more about interactive tables.';\n",
              "        element.innerHTML = '';\n",
              "        dataTable['output_type'] = 'display_data';\n",
              "        await google.colab.output.renderOutput(dataTable, element);\n",
              "        const docLink = document.createElement('div');\n",
              "        docLink.innerHTML = docLinkHtml;\n",
              "        element.appendChild(docLink);\n",
              "      }\n",
              "    </script>\n",
              "  </div>\n",
              "\n",
              "\n",
              "<div id=\"df-0f6eb315-10ba-4807-b9e6-a4ed6c0ea608\">\n",
              "  <button class=\"colab-df-quickchart\" onclick=\"quickchart('df-0f6eb315-10ba-4807-b9e6-a4ed6c0ea608')\"\n",
              "            title=\"Suggest charts\"\n",
              "            style=\"display:none;\">\n",
              "\n",
              "<svg xmlns=\"http://www.w3.org/2000/svg\" height=\"24px\"viewBox=\"0 0 24 24\"\n",
              "     width=\"24px\">\n",
              "    <g>\n",
              "        <path d=\"M19 3H5c-1.1 0-2 .9-2 2v14c0 1.1.9 2 2 2h14c1.1 0 2-.9 2-2V5c0-1.1-.9-2-2-2zM9 17H7v-7h2v7zm4 0h-2V7h2v10zm4 0h-2v-4h2v4z\"/>\n",
              "    </g>\n",
              "</svg>\n",
              "  </button>\n",
              "\n",
              "<style>\n",
              "  .colab-df-quickchart {\n",
              "      --bg-color: #E8F0FE;\n",
              "      --fill-color: #1967D2;\n",
              "      --hover-bg-color: #E2EBFA;\n",
              "      --hover-fill-color: #174EA6;\n",
              "      --disabled-fill-color: #AAA;\n",
              "      --disabled-bg-color: #DDD;\n",
              "  }\n",
              "\n",
              "  [theme=dark] .colab-df-quickchart {\n",
              "      --bg-color: #3B4455;\n",
              "      --fill-color: #D2E3FC;\n",
              "      --hover-bg-color: #434B5C;\n",
              "      --hover-fill-color: #FFFFFF;\n",
              "      --disabled-bg-color: #3B4455;\n",
              "      --disabled-fill-color: #666;\n",
              "  }\n",
              "\n",
              "  .colab-df-quickchart {\n",
              "    background-color: var(--bg-color);\n",
              "    border: none;\n",
              "    border-radius: 50%;\n",
              "    cursor: pointer;\n",
              "    display: none;\n",
              "    fill: var(--fill-color);\n",
              "    height: 32px;\n",
              "    padding: 0;\n",
              "    width: 32px;\n",
              "  }\n",
              "\n",
              "  .colab-df-quickchart:hover {\n",
              "    background-color: var(--hover-bg-color);\n",
              "    box-shadow: 0 1px 2px rgba(60, 64, 67, 0.3), 0 1px 3px 1px rgba(60, 64, 67, 0.15);\n",
              "    fill: var(--button-hover-fill-color);\n",
              "  }\n",
              "\n",
              "  .colab-df-quickchart-complete:disabled,\n",
              "  .colab-df-quickchart-complete:disabled:hover {\n",
              "    background-color: var(--disabled-bg-color);\n",
              "    fill: var(--disabled-fill-color);\n",
              "    box-shadow: none;\n",
              "  }\n",
              "\n",
              "  .colab-df-spinner {\n",
              "    border: 2px solid var(--fill-color);\n",
              "    border-color: transparent;\n",
              "    border-bottom-color: var(--fill-color);\n",
              "    animation:\n",
              "      spin 1s steps(1) infinite;\n",
              "  }\n",
              "\n",
              "  @keyframes spin {\n",
              "    0% {\n",
              "      border-color: transparent;\n",
              "      border-bottom-color: var(--fill-color);\n",
              "      border-left-color: var(--fill-color);\n",
              "    }\n",
              "    20% {\n",
              "      border-color: transparent;\n",
              "      border-left-color: var(--fill-color);\n",
              "      border-top-color: var(--fill-color);\n",
              "    }\n",
              "    30% {\n",
              "      border-color: transparent;\n",
              "      border-left-color: var(--fill-color);\n",
              "      border-top-color: var(--fill-color);\n",
              "      border-right-color: var(--fill-color);\n",
              "    }\n",
              "    40% {\n",
              "      border-color: transparent;\n",
              "      border-right-color: var(--fill-color);\n",
              "      border-top-color: var(--fill-color);\n",
              "    }\n",
              "    60% {\n",
              "      border-color: transparent;\n",
              "      border-right-color: var(--fill-color);\n",
              "    }\n",
              "    80% {\n",
              "      border-color: transparent;\n",
              "      border-right-color: var(--fill-color);\n",
              "      border-bottom-color: var(--fill-color);\n",
              "    }\n",
              "    90% {\n",
              "      border-color: transparent;\n",
              "      border-bottom-color: var(--fill-color);\n",
              "    }\n",
              "  }\n",
              "</style>\n",
              "\n",
              "  <script>\n",
              "    async function quickchart(key) {\n",
              "      const quickchartButtonEl =\n",
              "        document.querySelector('#' + key + ' button');\n",
              "      quickchartButtonEl.disabled = true;  // To prevent multiple clicks.\n",
              "      quickchartButtonEl.classList.add('colab-df-spinner');\n",
              "      try {\n",
              "        const charts = await google.colab.kernel.invokeFunction(\n",
              "            'suggestCharts', [key], {});\n",
              "      } catch (error) {\n",
              "        console.error('Error during call to suggestCharts:', error);\n",
              "      }\n",
              "      quickchartButtonEl.classList.remove('colab-df-spinner');\n",
              "      quickchartButtonEl.classList.add('colab-df-quickchart-complete');\n",
              "    }\n",
              "    (() => {\n",
              "      let quickchartButtonEl =\n",
              "        document.querySelector('#df-0f6eb315-10ba-4807-b9e6-a4ed6c0ea608 button');\n",
              "      quickchartButtonEl.style.display =\n",
              "        google.colab.kernel.accessAllowed ? 'block' : 'none';\n",
              "    })();\n",
              "  </script>\n",
              "</div>\n",
              "    </div>\n",
              "  </div>\n"
            ]
          },
          "metadata": {},
          "execution_count": 7
        }
      ],
      "source": [
        "train_metadata = pd.read_csv('/content/train_metadata.csv', low_memory=False)\n",
        "train_metadata.head()"
      ]
    },
    {
      "cell_type": "code",
      "execution_count": 8,
      "metadata": {
        "id": "s_ciWTpuJeKP",
        "colab": {
          "base_uri": "https://localhost:8080/"
        },
        "outputId": "1a79dff7-a2e8-457d-d70c-ad875eb04b4c"
      },
      "outputs": [
        {
          "output_type": "execute_result",
          "data": {
            "text/plain": [
              "primary_label         264\n",
              "secondary_labels      751\n",
              "type                  796\n",
              "latitude             6252\n",
              "longitude            6301\n",
              "scientific_name       264\n",
              "common_name           264\n",
              "author               1082\n",
              "license                 4\n",
              "rating                 11\n",
              "url                 16941\n",
              "filename            16941\n",
              "dtype: int64"
            ]
          },
          "metadata": {},
          "execution_count": 8
        }
      ],
      "source": [
        "train_metadata.nunique()"
      ]
    },
    {
      "cell_type": "code",
      "execution_count": 9,
      "metadata": {
        "id": "IaLoa-22KNeh",
        "colab": {
          "base_uri": "https://localhost:8080/",
          "height": 447
        },
        "outputId": "505a1ecf-ce3a-41e4-ab4d-8f3b5cba5522"
      },
      "outputs": [
        {
          "output_type": "execute_result",
          "data": {
            "text/plain": [
              "<Axes: ylabel='Frequency'>"
            ]
          },
          "metadata": {},
          "execution_count": 9
        },
        {
          "output_type": "display_data",
          "data": {
            "text/plain": [
              "<Figure size 640x480 with 1 Axes>"
            ],
            "image/png": "[encoded data removed]"
          },
          "metadata": {}
        }
      ],
      "source": [
        "#Plot the histogram of frequencies of labels\n",
        "train_metadata['common_name'].value_counts().plot.hist()"
      ]
    },
    {
      "cell_type": "code",
      "execution_count": 10,
      "metadata": {
        "id": "BtIENzpZQIuc"
      },
      "outputs": [],
      "source": [
        "path = '/content/train_audio/'"
      ]
    },
    {
      "cell_type": "code",
      "execution_count": 11,
      "metadata": {
        "id": "6Y0vkjFOYtFb",
        "colab": {
          "base_uri": "https://localhost:8080/"
        },
        "outputId": "0054d0c4-f7f4-4358-9ec5-69e8eb3354d4"
      },
      "outputs": [
        {
          "output_type": "stream",
          "name": "stderr",
          "text": [
            "100%|██████████| 16941/16941 [00:33<00:00, 501.94it/s]\n"
          ]
        }
      ],
      "source": [
        "#Collect duration information\n",
        "duration = []\n",
        "for i in tqdm(range(len(train_metadata))):\n",
        "    audio_name = train_metadata['filename'][i]\n",
        "    audio_path = os.path.join(path, audio_name)\n",
        "    d = librosa.get_duration(path=audio_path)\n",
        "    duration.append(d)"
      ]
    },
    {
      "cell_type": "code",
      "execution_count": 12,
      "metadata": {
        "id": "-1CNxcetOwTX",
        "colab": {
          "base_uri": "https://localhost:8080/"
        },
        "outputId": "d19b820a-e98a-4e8f-ce25-f55a6324dcce"
      },
      "outputs": [
        {
          "output_type": "execute_result",
          "data": {
            "text/plain": [
              "24.624"
            ]
          },
          "metadata": {},
          "execution_count": 12
        }
      ],
      "source": [
        "np.median(duration)"
      ]
    },
    {
      "cell_type": "code",
      "execution_count": 13,
      "metadata": {
        "id": "owZImgd9PHKw"
      },
      "outputs": [],
      "source": [
        "duration_series = pd.Series(duration)"
      ]
    },
    {
      "cell_type": "code",
      "execution_count": 14,
      "metadata": {
        "id": "ZkJBMxIvRVT5",
        "colab": {
          "base_uri": "https://localhost:8080/",
          "height": 447
        },
        "outputId": "b7570eee-7e54-4c16-d1a6-1fa0036e5c0d"
      },
      "outputs": [
        {
          "output_type": "execute_result",
          "data": {
            "text/plain": [
              "<Axes: ylabel='Frequency'>"
            ]
          },
          "metadata": {},
          "execution_count": 14
        },
        {
          "output_type": "display_data",
          "data": {
            "text/plain": [
              "<Figure size 640x480 with 1 Axes>"
            ],
            "image/png": "[encoded data removed]"
          },
          "metadata": {}
        }
      ],
      "source": [
        "#Plot histogram of duration\n",
        "duration_series.plot.hist(bins=100)"
      ]
    },
    {
      "cell_type": "code",
      "execution_count": 15,
      "metadata": {
        "id": "4HrpBEcNRpsn",
        "colab": {
          "base_uri": "https://localhost:8080/"
        },
        "outputId": "446f3084-e553-4e7b-e4c3-a1ab471850cd"
      },
      "outputs": [
        {
          "output_type": "execute_result",
          "data": {
            "text/plain": [
              "count    16941.000000\n",
              "mean        40.885565\n",
              "std         69.610286\n",
              "min          0.548000\n",
              "25%         12.773875\n",
              "50%         24.624000\n",
              "75%         45.871031\n",
              "max       2373.528000\n",
              "dtype: float64"
            ]
          },
          "metadata": {},
          "execution_count": 15
        }
      ],
      "source": [
        "duration_series.describe()"
      ]
    },
    {
      "cell_type": "code",
      "execution_count": 16,
      "metadata": {
        "id": "fuuc5yJeVEdv"
      },
      "outputs": [],
      "source": [
        "#Recordings indexes longer then 60 seconds\n",
        "idxs_to_drop = []\n",
        "for i in range(len(duration)):\n",
        "    if duration[i] >= 60:\n",
        "        idxs_to_drop.append(i)"
      ]
    },
    {
      "cell_type": "code",
      "execution_count": 17,
      "metadata": {
        "id": "Cttmi8ZcViZI",
        "colab": {
          "base_uri": "https://localhost:8080/"
        },
        "outputId": "18194254-e0df-4a5c-8749-a11a10daa706"
      },
      "outputs": [
        {
          "output_type": "execute_result",
          "data": {
            "text/plain": [
              "2851"
            ]
          },
          "metadata": {},
          "execution_count": 17
        }
      ],
      "source": [
        "len(idxs_to_drop)"
      ]
    },
    {
      "cell_type": "code",
      "execution_count": 18,
      "metadata": {
        "id": "42E5kBpqV1fg"
      },
      "outputs": [],
      "source": [
        "#Drop recordings longer then 60 seconds\n",
        "train_metadata_filtered = train_metadata.drop(index=idxs_to_drop)"
      ]
    },
    {
      "cell_type": "code",
      "execution_count": 19,
      "metadata": {
        "id": "IAcUFRVMW2Vg"
      },
      "outputs": [],
      "source": [
        "x = train_metadata_filtered['filename']"
      ]
    },
    {
      "cell_type": "code",
      "execution_count": 20,
      "metadata": {
        "id": "o3cTGQjNks4H"
      },
      "outputs": [],
      "source": [
        "#One-hot encoding\n",
        "y = pd.get_dummies(train_metadata_filtered['primary_label'], dtype=float)"
      ]
    },
    {
      "cell_type": "code",
      "execution_count": 21,
      "metadata": {
        "id": "xSCnljz1hH5Q"
      },
      "outputs": [],
      "source": [
        "#Train dataset\n",
        "x_train, x_valid_test, y_train, y_valid_test = train_test_split(x, y, train_size=0.7, random_state=42)"
      ]
    },
    {
      "cell_type": "code",
      "execution_count": 22,
      "metadata": {
        "id": "awWHrq4Ji6rv"
      },
      "outputs": [],
      "source": [
        "#Validation and test dataset\n",
        "x_valid, x_test, y_valid, y_test = train_test_split(x_valid_test, y_valid_test, test_size=0.33, random_state=42)"
      ]
    },
    {
      "cell_type": "code",
      "execution_count": 23,
      "metadata": {
        "id": "hZlRvPB80YH_"
      },
      "outputs": [],
      "source": [
        "x_train = np.array(x_train)\n",
        "y_train = np.array(y_train)\n",
        "x_valid = np.array(x_valid)\n",
        "y_valid = np.array(y_valid)\n",
        "x_test = np.array(x_test)\n",
        "y_test = np.array(y_test)"
      ]
    },
    {
      "cell_type": "code",
      "execution_count": 24,
      "metadata": {
        "id": "hGoCebdXlf_r"
      },
      "outputs": [],
      "source": [
        "def split_audio(y, sr, duration=3):\n",
        "    res = []\n",
        "    # Calculate the number of samples for the desired duration\n",
        "    samples_per_slice = int(duration * sr)\n",
        "\n",
        "    # Calculate the total number of slices\n",
        "    len_y = len(y)\n",
        "    total_slices = int(np.ceil(len_y / samples_per_slice))\n",
        "\n",
        "    # Split the audio into slices\n",
        "    for i in range(total_slices):\n",
        "        start_sample = i * samples_per_slice\n",
        "        end_sample = min((i + 1) * samples_per_slice, len_y)\n",
        "\n",
        "        # If sample is full, append to results\n",
        "        if end_sample < len_y:\n",
        "            audio_slice = y[start_sample:end_sample]\n",
        "            res.append(audio_slice)\n",
        "\n",
        "    return res"
      ]
    },
    {
      "cell_type": "code",
      "execution_count": 25,
      "metadata": {
        "id": "STWRiRysn-OC"
      },
      "outputs": [],
      "source": [
        "def make_mel(slices, sr):\n",
        "    res = []\n",
        "    for i in range(len(slices)):\n",
        "        # Create the mel spectrogram\n",
        "        melsgram = librosa.feature.melspectrogram(y=slices[i], sr=sr)\n",
        "        mel_sgram_db = librosa.power_to_db(melsgram, ref=np.max)\n",
        "        # It has to be 3 dimensional with 3 channels for Xception\n",
        "        tensor_expanded = tf.expand_dims(mel_sgram_db, axis=-1)\n",
        "        result = tf.tile(tensor_expanded, multiples=[1, 1, 3])\n",
        "        res.append(result)\n",
        "\n",
        "    return res"
      ]
    },
    {
      "cell_type": "code",
      "execution_count": 26,
      "metadata": {
        "id": "3TGB2yAImti3"
      },
      "outputs": [],
      "source": [
        "def shuffle_generator(audio, label, path, seed):\n",
        "    idx = np.arange(len(audio))\n",
        "    np.random.default_rng(seed).shuffle(idx)\n",
        "    for i in idx:\n",
        "        audio_path = os.path.join(path, audio[i])\n",
        "        y, sr = librosa.load(audio_path)\n",
        "        slices = split_audio(y, sr)\n",
        "        images = make_mel(slices, sr)\n",
        "        idx_image = np.arange(len(images))\n",
        "        np.random.default_rng(seed).shuffle(idx_image)\n",
        "        for j in idx_image:\n",
        "            yield images[j], label[i]"
      ]
    },
    {
      "cell_type": "code",
      "execution_count": 27,
      "metadata": {
        "id": "Vl1X34LRtejZ"
      },
      "outputs": [],
      "source": [
        "input_shape = (128, 130, 3)\n",
        "pred_shape = y_train.shape[1]\n",
        "# Make the train, validation and test datasets from generators\n",
        "dataset = tf.data.Dataset.from_generator(\n",
        "    shuffle_generator,\n",
        "    args=[x_train, y_train, path, 42],\n",
        "    output_signature=(\n",
        "        tf.TensorSpec(shape=input_shape, dtype=tf.float32),\n",
        "        tf.TensorSpec(shape=(pred_shape,), dtype=tf.float32))\n",
        ")\n",
        "\n",
        "val_dataset = tf.data.Dataset.from_generator(\n",
        "    shuffle_generator,\n",
        "    args=[x_valid, y_valid, path, 42],\n",
        "    output_signature=(\n",
        "        tf.TensorSpec(shape=input_shape, dtype=tf.float32),\n",
        "        tf.TensorSpec(shape=(pred_shape,), dtype=tf.float32))\n",
        ")\n",
        "\n",
        "test_dataset = tf.data.Dataset.from_generator(\n",
        "    shuffle_generator,\n",
        "    args=[x_test, y_test, path, 42],\n",
        "    output_signature=(\n",
        "        tf.TensorSpec(shape=input_shape, dtype=tf.float32),\n",
        "        tf.TensorSpec(shape=(pred_shape,), dtype=tf.float32))\n",
        ")\n",
        "\n",
        "# Use the keras dataset API for better performance (cache, batch, prefetch)\n",
        "dataset = dataset.cache('/content/dataset').batch(64).prefetch(buffer_size=tf.data.experimental.AUTOTUNE)\n",
        "val_dataset = val_dataset.cache('/content/val_dataset').batch(64).prefetch(buffer_size=tf.data.experimental.AUTOTUNE)\n",
        "test_dataset = test_dataset.batch(64).prefetch(buffer_size=tf.data.experimental.AUTOTUNE)"
      ]
    },
    {
      "cell_type": "code",
      "execution_count": 28,
      "metadata": {
        "id": "HMTxTssNkh7V",
        "colab": {
          "base_uri": "https://localhost:8080/"
        },
        "outputId": "7f0367f1-cd32-4b3d-e449-295ac8a03d31"
      },
      "outputs": [
        {
          "output_type": "stream",
          "name": "stdout",
          "text": [
            "Downloading data from https://storage.googleapis.com/tensorflow/keras-applications/xception/xception_weights_tf_dim_ordering_tf_kernels_notop.h5\n",
            "83683744/83683744 [==============================] - 1s 0us/step\n",
            "Model: \"model\"\n",
            "_________________________________________________________________\n",
            " Layer (type)                Output Shape              Param #   \n",
            "=================================================================\n",
            " input_2 (InputLayer)        [(None, 128, 130, 3)]     0         \n",
            "                                                                 \n",
            " rescaling (Rescaling)       (None, 128, 130, 3)       0         \n",
            "                                                                 \n",
            " xception (Functional)       (None, 4, 4, 2048)        20861480  \n",
            "                                                                 \n",
            " global_average_pooling2d (  (None, 2048)              0         \n",
            " GlobalAveragePooling2D)                                         \n",
            "                                                                 \n",
            " dropout (Dropout)           (None, 2048)              0         \n",
            "                                                                 \n",
            " dense (Dense)               (None, 264)               540936    \n",
            "                                                                 \n",
            "=================================================================\n",
            "Total params: 21402416 (81.64 MB)\n",
            "Trainable params: 540936 (2.06 MB)\n",
            "Non-trainable params: 20861480 (79.58 MB)\n",
            "_________________________________________________________________\n"
          ]
        }
      ],
      "source": [
        "base_model = keras.applications.Xception(\n",
        "    weights=\"imagenet\",  # Load weights pre-trained on ImageNet.\n",
        "    input_shape=input_shape,\n",
        "    include_top=False,\n",
        ")  # Do not include the ImageNet classifier at the top.\n",
        "\n",
        "# Freeze the base_model\n",
        "base_model.trainable = False\n",
        "\n",
        "# Create new model on top\n",
        "inputs = keras.Input(shape=input_shape)\n",
        "\n",
        "# Pre-trained Xception weights requires that input be scaled\n",
        "# from (-80, 0) to a range of (-1., +1.), the rescaling layer\n",
        "# outputs: `(inputs * scale) + offset`\n",
        "scale_layer = keras.layers.Rescaling(scale=-1 / 40.0, offset=-1)\n",
        "x = scale_layer(inputs)\n",
        "\n",
        "# The base model contains batchnorm layers. We want to keep them in inference mode\n",
        "# when we unfreeze the base model for fine-tuning, so we make sure that the\n",
        "# base_model is running in inference mode here.\n",
        "x = base_model(x, training=False)\n",
        "x = keras.layers.GlobalAveragePooling2D()(x)\n",
        "x = keras.layers.Dropout(0.4)(x)  # Regularize with dropout\n",
        "outputs = keras.layers.Dense(pred_shape, activation='softmax')(x)\n",
        "model = keras.Model(inputs, outputs)\n",
        "\n",
        "model.summary()"
      ]
    },
    {
      "cell_type": "code",
      "execution_count": 29,
      "metadata": {
        "id": "_XiiPD0TxAy4"
      },
      "outputs": [],
      "source": [
        "model.compile(loss=tf.keras.losses.CategoricalCrossentropy(), optimizer=Adam(learning_rate=3e-4),\n",
        "              metrics=[tf.keras.metrics.CategoricalAccuracy()])"
      ]
    },
    {
      "cell_type": "code",
      "execution_count": 30,
      "metadata": {
        "id": "fif05074xJYI",
        "colab": {
          "base_uri": "https://localhost:8080/"
        },
        "outputId": "06d173a5-b8d8-4dac-ee3a-2ce8fbfb2036"
      },
      "outputs": [
        {
          "output_type": "stream",
          "name": "stdout",
          "text": [
            "Epoch 1/10\n",
            "1113/1113 [==============================] - 2184s 2s/step - loss: 4.8461 - categorical_accuracy: 0.0825 - val_loss: 4.5455 - val_categorical_accuracy: 0.1225\n",
            "Epoch 2/10\n",
            "1113/1113 [==============================] - 113s 101ms/step - loss: 4.2416 - categorical_accuracy: 0.1412 - val_loss: 4.3920 - val_categorical_accuracy: 0.1404\n",
            "Epoch 3/10\n",
            "1113/1113 [==============================] - 116s 104ms/step - loss: 3.9964 - categorical_accuracy: 0.1701 - val_loss: 4.3170 - val_categorical_accuracy: 0.1540\n",
            "Epoch 4/10\n",
            "1113/1113 [==============================] - 117s 105ms/step - loss: 3.8254 - categorical_accuracy: 0.1906 - val_loss: 4.2705 - val_categorical_accuracy: 0.1631\n",
            "Epoch 5/10\n",
            "1113/1113 [==============================] - 133s 119ms/step - loss: 3.6963 - categorical_accuracy: 0.2076 - val_loss: 4.2450 - val_categorical_accuracy: 0.1679\n",
            "Epoch 6/10\n",
            "1113/1113 [==============================] - 117s 105ms/step - loss: 3.5934 - categorical_accuracy: 0.2252 - val_loss: 4.2260 - val_categorical_accuracy: 0.1732\n",
            "Epoch 7/10\n",
            "1113/1113 [==============================] - 117s 105ms/step - loss: 3.5039 - categorical_accuracy: 0.2364 - val_loss: 4.2155 - val_categorical_accuracy: 0.1766\n",
            "Epoch 8/10\n",
            "1113/1113 [==============================] - 118s 106ms/step - loss: 3.4245 - categorical_accuracy: 0.2478 - val_loss: 4.2064 - val_categorical_accuracy: 0.1805\n",
            "Epoch 9/10\n",
            "1113/1113 [==============================] - 117s 105ms/step - loss: 3.3646 - categorical_accuracy: 0.2601 - val_loss: 4.2029 - val_categorical_accuracy: 0.1833\n",
            "Epoch 10/10\n",
            "1113/1113 [==============================] - 117s 105ms/step - loss: 3.3012 - categorical_accuracy: 0.2681 - val_loss: 4.2034 - val_categorical_accuracy: 0.1861\n"
          ]
        }
      ],
      "source": [
        "history = model.fit(dataset,\n",
        "                    epochs=10,\n",
        "                    validation_data=val_dataset,\n",
        "                    verbose=1)"
      ]
    },
    {
      "cell_type": "code",
      "source": [
        "# Fine-tune the whole model\n",
        "base_model.trainable = True\n",
        "model.summary(show_trainable=True)"
      ],
      "metadata": {
        "id": "VqCvfSgz7Fhj",
        "colab": {
          "base_uri": "https://localhost:8080/"
        },
        "outputId": "fe496732-b8b6-4cc6-d9d7-5b4be611fa5f"
      },
      "execution_count": 31,
      "outputs": [
        {
          "output_type": "stream",
          "name": "stdout",
          "text": [
            "Model: \"model\"\n",
            "____________________________________________________________________________\n",
            " Layer (type)                Output Shape              Param #   Trainable  \n",
            "============================================================================\n",
            " input_2 (InputLayer)        [(None, 128, 130, 3)]     0         Y          \n",
            "                                                                            \n",
            " rescaling (Rescaling)       (None, 128, 130, 3)       0         Y          \n",
            "                                                                            \n",
            " xception (Functional)       (None, 4, 4, 2048)        2086148   Y          \n",
            "                                                       0                    \n",
            "                                                                            \n",
            " global_average_pooling2d (  (None, 2048)              0         Y          \n",
            " GlobalAveragePooling2D)                                                    \n",
            "                                                                            \n",
            " dropout (Dropout)           (None, 2048)              0         Y          \n",
            "                                                                            \n",
            " dense (Dense)               (None, 264)               540936    Y          \n",
            "                                                                            \n",
            "============================================================================\n",
            "Total params: 21402416 (81.64 MB)\n",
            "Trainable params: 21347888 (81.44 MB)\n",
            "Non-trainable params: 54528 (213.00 KB)\n",
            "____________________________________________________________________________\n"
          ]
        }
      ]
    },
    {
      "cell_type": "code",
      "source": [
        "# Set callbacks\n",
        "early_stopping=EarlyStopping(patience=5, monitor='val_categorical_accuracy', verbose=1)\n",
        "checkpointer=ModelCheckpoint(filepath='model.h5', monitor='val_categorical_accuracy', save_best_only=True, verbose=1)"
      ],
      "metadata": {
        "id": "SwtwrCB_Wrfx"
      },
      "execution_count": 32,
      "outputs": []
    },
    {
      "cell_type": "code",
      "source": [
        "model.compile(loss=tf.keras.losses.CategoricalCrossentropy(), optimizer=Adam(learning_rate=3e-5),\n",
        "              metrics=[tf.keras.metrics.CategoricalAccuracy()])"
      ],
      "metadata": {
        "id": "OVgtQqna7QWN"
      },
      "execution_count": 33,
      "outputs": []
    },
    {
      "cell_type": "code",
      "source": [
        "history = model.fit(dataset,\n",
        "                    epochs=10,\n",
        "                    validation_data=val_dataset,\n",
        "                    callbacks=[early_stopping, checkpointer],\n",
        "                    verbose=1)"
      ],
      "metadata": {
        "id": "GcEpxY3h7pDC",
        "colab": {
          "base_uri": "https://localhost:8080/"
        },
        "outputId": "ebd78f8c-6e7f-4755-f130-c99f222f77c8"
      },
      "execution_count": 34,
      "outputs": [
        {
          "output_type": "stream",
          "name": "stdout",
          "text": [
            "Epoch 1/10\n",
            "   1113/Unknown - 381s 318ms/step - loss: 2.9290 - categorical_accuracy: 0.3385\n",
            "Epoch 1: val_categorical_accuracy improved from -inf to 0.29587, saving model to model.h5\n"
          ]
        },
        {
          "output_type": "stream",
          "name": "stderr",
          "text": [
            "/usr/local/lib/python3.10/dist-packages/keras/src/engine/training.py:3079: UserWarning: You are saving your model as an HDF5 file via `model.save()`. This file format is considered legacy. We recommend using instead the native Keras format, e.g. `model.save('my_model.keras')`.\n",
            "  saving_api.save_model(\n"
          ]
        },
        {
          "output_type": "stream",
          "name": "stdout",
          "text": [
            "\b\b\b\b\b\b\b\b\b\b\b\b\b\b\b\b\b\b\b\b\b\b\b\b\b\b\b\b\b\b\b\b\b\b\b\b\b\b\b\b\b\b\b\b\b\b\b\b\b\b\b\b\b\b\b\b\b\b\b\b\b\b\b\b\b\b\b\b\b\b\b\b\b\b\b\b\b\b\b\r1113/1113 [==============================] - 414s 347ms/step - loss: 2.9290 - categorical_accuracy: 0.3385 - val_loss: 3.5407 - val_categorical_accuracy: 0.2959\n",
            "Epoch 2/10\n",
            "1113/1113 [==============================] - ETA: 0s - loss: 2.3376 - categorical_accuracy: 0.4553\n",
            "Epoch 2: val_categorical_accuracy improved from 0.29587 to 0.32621, saving model to model.h5\n",
            "1113/1113 [==============================] - 383s 344ms/step - loss: 2.3376 - categorical_accuracy: 0.4553 - val_loss: 3.5313 - val_categorical_accuracy: 0.3262\n",
            "Epoch 3/10\n",
            "1113/1113 [==============================] - ETA: 0s - loss: 1.9562 - categorical_accuracy: 0.5346\n",
            "Epoch 3: val_categorical_accuracy improved from 0.32621 to 0.34162, saving model to model.h5\n",
            "1113/1113 [==============================] - 383s 344ms/step - loss: 1.9562 - categorical_accuracy: 0.5346 - val_loss: 3.5830 - val_categorical_accuracy: 0.3416\n",
            "Epoch 4/10\n",
            "1113/1113 [==============================] - ETA: 0s - loss: 1.6425 - categorical_accuracy: 0.6037\n",
            "Epoch 4: val_categorical_accuracy improved from 0.34162 to 0.35349, saving model to model.h5\n",
            "1113/1113 [==============================] - 379s 340ms/step - loss: 1.6425 - categorical_accuracy: 0.6037 - val_loss: 3.6614 - val_categorical_accuracy: 0.3535\n",
            "Epoch 5/10\n",
            "1113/1113 [==============================] - ETA: 0s - loss: 1.3771 - categorical_accuracy: 0.6610\n",
            "Epoch 5: val_categorical_accuracy improved from 0.35349 to 0.36245, saving model to model.h5\n",
            "1113/1113 [==============================] - 383s 344ms/step - loss: 1.3771 - categorical_accuracy: 0.6610 - val_loss: 3.8398 - val_categorical_accuracy: 0.3625\n",
            "Epoch 6/10\n",
            "1113/1113 [==============================] - ETA: 0s - loss: 1.1435 - categorical_accuracy: 0.7134\n",
            "Epoch 6: val_categorical_accuracy improved from 0.36245 to 0.37280, saving model to model.h5\n",
            "1113/1113 [==============================] - 383s 344ms/step - loss: 1.1435 - categorical_accuracy: 0.7134 - val_loss: 4.0767 - val_categorical_accuracy: 0.3728\n",
            "Epoch 7/10\n",
            "1113/1113 [==============================] - ETA: 0s - loss: 0.9558 - categorical_accuracy: 0.7571\n",
            "Epoch 7: val_categorical_accuracy did not improve from 0.37280\n",
            "1113/1113 [==============================] - 393s 353ms/step - loss: 0.9558 - categorical_accuracy: 0.7571 - val_loss: 4.4654 - val_categorical_accuracy: 0.3718\n",
            "Epoch 8/10\n",
            "1113/1113 [==============================] - ETA: 0s - loss: 0.8004 - categorical_accuracy: 0.7904\n",
            "Epoch 8: val_categorical_accuracy improved from 0.37280 to 0.38274, saving model to model.h5\n",
            "1113/1113 [==============================] - 399s 358ms/step - loss: 0.8004 - categorical_accuracy: 0.7904 - val_loss: 4.7009 - val_categorical_accuracy: 0.3827\n",
            "Epoch 9/10\n",
            "1113/1113 [==============================] - ETA: 0s - loss: 0.6721 - categorical_accuracy: 0.8228\n",
            "Epoch 9: val_categorical_accuracy improved from 0.38274 to 0.38634, saving model to model.h5\n",
            "1113/1113 [==============================] - 399s 359ms/step - loss: 0.6721 - categorical_accuracy: 0.8228 - val_loss: 5.0096 - val_categorical_accuracy: 0.3863\n",
            "Epoch 10/10\n",
            "1113/1113 [==============================] - ETA: 0s - loss: 0.5639 - categorical_accuracy: 0.8461\n",
            "Epoch 10: val_categorical_accuracy improved from 0.38634 to 0.39885, saving model to model.h5\n",
            "1113/1113 [==============================] - 383s 344ms/step - loss: 0.5639 - categorical_accuracy: 0.8461 - val_loss: 5.0232 - val_categorical_accuracy: 0.3988\n"
          ]
        }
      ]
    },
    {
      "cell_type": "code",
      "source": [
        "# Run best model on test dataset\n",
        "model = load_model('model.h5')\n",
        "test_err = model.evaluate(test_dataset)"
      ],
      "metadata": {
        "id": "lll3fj6ZbEtp",
        "colab": {
          "base_uri": "https://localhost:8080/"
        },
        "outputId": "3f0974e7-e007-4128-e57c-5535549a8feb"
      },
      "execution_count": 35,
      "outputs": [
        {
          "output_type": "stream",
          "name": "stdout",
          "text": [
            "156/156 [==============================] - 214s 1s/step - loss: 5.2521 - categorical_accuracy: 0.3920\n"
          ]
        }
      ]
    }
  ],
  "metadata": {
    "accelerator": "GPU",
    "colab": {
      "provenance": [],
      "authorship_tag": "ABX9TyPj7dZLiF9gCBBe3UKjbpj7",
      "include_colab_link": true
    },
    "kernelspec": {
      "display_name": "Python 3",
      "name": "python3"
    },
    "language_info": {
      "name": "python"
    }
  },
  "nbformat": 4,
  "nbformat_minor": 0
}